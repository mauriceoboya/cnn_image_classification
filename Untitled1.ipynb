{
  "nbformat": 4,
  "nbformat_minor": 0,
  "metadata": {
    "colab": {
      "provenance": [],
      "mount_file_id": "1YFd3UDTVTq3FHBDztUBpYa-MPVoFWHBl",
      "authorship_tag": "ABX9TyNQQIKERZNw0YbyDtuC3XbZ",
      "include_colab_link": true
    },
    "kernelspec": {
      "name": "python3",
      "display_name": "Python 3"
    },
    "language_info": {
      "name": "python"
    }
  },
  "cells": [
    {
      "cell_type": "markdown",
      "metadata": {
        "id": "view-in-github",
        "colab_type": "text"
      },
      "source": [
        "<a href=\"https://colab.research.google.com/github/mauriceoboya/cnn_image_classification/blob/main/Untitled1.ipynb\" target=\"_parent\"><img src=\"https://colab.research.google.com/assets/colab-badge.svg\" alt=\"Open In Colab\"/></a>"
      ]
    },
    {
      "cell_type": "code",
      "execution_count": 4,
      "metadata": {
        "colab": {
          "base_uri": "https://localhost:8080/",
          "height": 254
        },
        "id": "0VN0VucXtdga",
        "outputId": "7b06b36c-b020-4587-babb-cae35310ce4a"
      },
      "outputs": [
        {
          "output_type": "error",
          "ename": "FileNotFoundError",
          "evalue": "[Errno 2] No such file or directory: '/home/fibonacci/Documents/image_classification'",
          "traceback": [
            "\u001b[0;31m---------------------------------------------------------------------------\u001b[0m",
            "\u001b[0;31mFileNotFoundError\u001b[0m                         Traceback (most recent call last)",
            "\u001b[0;32m<ipython-input-4-c5958a1dfdd6>\u001b[0m in \u001b[0;36m<cell line: 9>\u001b[0;34m()\u001b[0m\n\u001b[1;32m      7\u001b[0m \u001b[0;34m\u001b[0m\u001b[0m\n\u001b[1;32m      8\u001b[0m \u001b[0mfolder_paths\u001b[0m\u001b[0;34m=\u001b[0m\u001b[0;34m'/home/fibonacci/Documents/image_classification'\u001b[0m\u001b[0;34m\u001b[0m\u001b[0;34m\u001b[0m\u001b[0m\n\u001b[0;32m----> 9\u001b[0;31m \u001b[0mfolders\u001b[0m\u001b[0;34m=\u001b[0m\u001b[0mos\u001b[0m\u001b[0;34m.\u001b[0m\u001b[0mlistdir\u001b[0m\u001b[0;34m(\u001b[0m\u001b[0mfolder_paths\u001b[0m\u001b[0;34m)\u001b[0m\u001b[0;34m\u001b[0m\u001b[0;34m\u001b[0m\u001b[0m\n\u001b[0m\u001b[1;32m     10\u001b[0m \u001b[0mfiles_paths\u001b[0m\u001b[0;34m=\u001b[0m\u001b[0;34m[\u001b[0m\u001b[0;34m]\u001b[0m\u001b[0;34m\u001b[0m\u001b[0;34m\u001b[0m\u001b[0m\n\u001b[1;32m     11\u001b[0m \u001b[0;32mfor\u001b[0m \u001b[0mfolder\u001b[0m \u001b[0;32min\u001b[0m \u001b[0mfolders\u001b[0m\u001b[0;34m:\u001b[0m\u001b[0;34m\u001b[0m\u001b[0;34m\u001b[0m\u001b[0m\n",
            "\u001b[0;31mFileNotFoundError\u001b[0m: [Errno 2] No such file or directory: '/home/fibonacci/Documents/image_classification'"
          ]
        }
      ],
      "source": [
        "# prompt: import data\n",
        "import cv2 as cv\n",
        "from PIL import Image\n",
        "import os\n",
        "from tqdm import tqdm\n",
        "import pandas as pd\n",
        "\n",
        "folder_paths='/home/fibonacci/Documents/image_classification'\n",
        "folders=os.listdir(folder_paths)\n",
        "files_paths=[]\n",
        "for folder in folders:\n",
        "    file_path=os.path.join(folder_paths,folder)\n",
        "    files_paths.append(file_path)\n",
        "\n",
        "for file_path in files_paths:\n",
        "    file_pathe=os.listdir(file_path)\n",
        "    images=os.path.join(file_path,file_pathe[0])\n",
        "    image=Image.open(images)\n",
        "    print('folder:{},number of images:{},image size:{}'.format(file_path,len(file_pathe),image.size))\n",
        "    for im in file_pathe:\n",
        "        if im.endswith(('.jpg','.png','.jpeg')):\n",
        "            None\n",
        "        else:\n",
        "            os.remove(os.path.join(file_pathe,im))\n",
        "\n",
        "class_names=[]\n",
        "for file_name in folders:\n",
        "    class_names.append(file_name)\n",
        "class_names_label = {class_name:i for i, class_name in enumerate(class_names)}\n",
        "nb_classes=len(class_names)\n",
        "image_size=(150,150)\n",
        "print(nb_classes)\n",
        "\n",
        "def load_data(folder_paths, class_names_label, image_size):\n",
        "    data = []\n",
        "\n",
        "    for dataset in folder_paths:\n",
        "        images = []\n",
        "        labels = []\n",
        "        print(f\"Loading {dataset}\")\n",
        "        for folder in os.listdir(dataset):\n",
        "            folder_path = os.path.join(dataset, folder)\n",
        "            if os.path.isdir(folder_path):\n",
        "                label = class_names_label[folder]\n",
        "                for file in tqdm(os.listdir(folder_path)):\n",
        "                    if file.lower().endswith(('.jpg', '.png', '.jpeg')):\n",
        "                        img_path = os.path.join(folder_path, file)\n",
        "                        current_image = cv.imread(img_path)\n",
        "                        current_image = cv.cvtColor(current_image, cv.COLOR_BGR2RGB)\n",
        "                        current_image = cv.resize(current_image, image_size)\n",
        "                        images.append(current_image)\n",
        "                        labels.append(label)\n",
        "\n",
        "        images = np.array(images, dtype='float32')\n",
        "        labels = np.array(labels, dtype='int32')\n",
        "        data.append((images, labels))\n",
        "\n",
        "    return data\n",
        "\n",
        "folder_paths = ['/home/fibonacci/Documents/image_classification']\n",
        "\n",
        "data = load_data(folder_paths, class_names_label, image_size)\n",
        "(train_data, test_data) = data[0]\n",
        "\n",
        "\n",
        "(X_train, y_train), (X_test, y_test) =load_data(folder_paths, class_names_label, image_size)\n",
        "\n",
        "\n",
        "\n"
      ]
    }
  ]
}